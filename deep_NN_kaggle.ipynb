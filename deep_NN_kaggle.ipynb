{
  "nbformat": 4,
  "nbformat_minor": 0,
  "metadata": {
    "colab": {
      "provenance": [],
      "authorship_tag": "ABX9TyOss8ldb+2F3gN3zZEibrRJ",
      "include_colab_link": true
    },
    "kernelspec": {
      "name": "python3",
      "display_name": "Python 3"
    },
    "language_info": {
      "name": "python"
    }
  },
  "cells": [
    {
      "cell_type": "markdown",
      "metadata": {
        "id": "view-in-github",
        "colab_type": "text"
      },
      "source": [
        "<a href=\"https://colab.research.google.com/github/abir101-prog/pytorch_experiments/blob/main/deep_NN_kaggle.ipynb\" target=\"_parent\"><img src=\"https://colab.research.google.com/assets/colab-badge.svg\" alt=\"Open In Colab\"/></a>"
      ]
    },
    {
      "cell_type": "code",
      "execution_count": 1,
      "metadata": {
        "id": "MW-2GgB4CJrS"
      },
      "outputs": [],
      "source": [
        "import torch\n",
        "import torch.nn as nn"
      ]
    },
    {
      "cell_type": "code",
      "source": [
        "n_ip = 10 # Input Layer\n",
        "n_hd = 5  # Hidden Layer\n",
        "n_op = 1  # Output Layer\n",
        "b_sz = 10 # batch size\n",
        "epoch = 25 "
      ],
      "metadata": {
        "id": "9El6Oy4kCNmU"
      },
      "execution_count": 2,
      "outputs": []
    },
    {
      "cell_type": "code",
      "source": [
        "x = torch.randn(b_sz, n_ip)\n",
        "y = torch.tensor([[1.0], [1.0], [1.0], [1.0], [0.0], [0.0], [0.0], [1.0], [1.0], [0.0]])"
      ],
      "metadata": {
        "id": "aQ-bsNALCUSc"
      },
      "execution_count": 3,
      "outputs": []
    },
    {
      "cell_type": "code",
      "source": [
        "model = nn.Sequential(nn.Linear(n_ip, n_hd),\n",
        "                      nn.ReLU(),\n",
        "                      nn.Linear(n_hd, n_op),\n",
        "                      nn.Sigmoid())"
      ],
      "metadata": {
        "id": "KyQrvGVnCkQc"
      },
      "execution_count": 5,
      "outputs": []
    },
    {
      "cell_type": "code",
      "source": [
        "loss_func = nn.MSELoss()  # loss function\n",
        "opt = torch.optim.SGD(model.parameters(), lr=1e-2)\n"
      ],
      "metadata": {
        "id": "YEN-Z59BC0sk"
      },
      "execution_count": 6,
      "outputs": []
    },
    {
      "cell_type": "code",
      "source": [
        "for i in range(epoch):\n",
        "  y_pred = model(x)\n",
        "  loss = loss_func(y_pred, y)\n",
        "\n",
        "  print(\"epoch : \", i+1 , \" loss : \", loss.item())\n",
        "  loss.backward()\n",
        "\n",
        "  # update parameter\n",
        "  opt.step()\n",
        "\n",
        "  #zero grads\n",
        "  opt.zero_grad()"
      ],
      "metadata": {
        "colab": {
          "base_uri": "https://localhost:8080/"
        },
        "id": "oQVoZ2ykDGi0",
        "outputId": "66709d3b-24ef-4429-f717-d257314b79ed"
      },
      "execution_count": 8,
      "outputs": [
        {
          "output_type": "stream",
          "name": "stdout",
          "text": [
            "epoch :  1  loss :  0.26410284638404846\n",
            "epoch :  2  loss :  0.2639884054660797\n",
            "epoch :  3  loss :  0.263874351978302\n",
            "epoch :  4  loss :  0.2637607157230377\n",
            "epoch :  5  loss :  0.26364749670028687\n",
            "epoch :  6  loss :  0.26353463530540466\n",
            "epoch :  7  loss :  0.2634221911430359\n",
            "epoch :  8  loss :  0.26331010460853577\n",
            "epoch :  9  loss :  0.2631984055042267\n",
            "epoch :  10  loss :  0.26308709383010864\n",
            "epoch :  11  loss :  0.26297619938850403\n",
            "epoch :  12  loss :  0.26286566257476807\n",
            "epoch :  13  loss :  0.26275554299354553\n",
            "epoch :  14  loss :  0.26264575123786926\n",
            "epoch :  15  loss :  0.26253634691238403\n",
            "epoch :  16  loss :  0.26242727041244507\n",
            "epoch :  17  loss :  0.26231861114501953\n",
            "epoch :  18  loss :  0.2622103691101074\n",
            "epoch :  19  loss :  0.2621024250984192\n",
            "epoch :  20  loss :  0.261994868516922\n",
            "epoch :  21  loss :  0.26188763976097107\n",
            "epoch :  22  loss :  0.2617807984352112\n",
            "epoch :  23  loss :  0.26167434453964233\n",
            "epoch :  24  loss :  0.26156824827194214\n",
            "epoch :  25  loss :  0.2614624500274658\n"
          ]
        }
      ]
    },
    {
      "cell_type": "code",
      "source": [],
      "metadata": {
        "id": "UvBzbYkQDjVU"
      },
      "execution_count": null,
      "outputs": []
    }
  ]
}